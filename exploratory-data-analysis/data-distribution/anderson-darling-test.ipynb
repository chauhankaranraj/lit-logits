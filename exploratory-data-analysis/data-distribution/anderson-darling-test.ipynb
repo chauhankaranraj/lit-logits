{
 "cells": [
  {
   "cell_type": "markdown",
   "metadata": {},
   "source": [
    "# Anderson Darling Test\n",
    "\n",
    "Test to determine whether a collection of data points was sampled from a given distribution."
   ]
  },
  {
   "cell_type": "code",
   "execution_count": null,
   "metadata": {},
   "outputs": [],
   "source": [
    "import numpy as np"
   ]
  }
 ],
 "metadata": {
  "interpreter": {
   "hash": "695145263de53a26b5d2e3e49dfb5ddc574133960ebfcf82f57c664619f5e88e"
  },
  "kernelspec": {
   "display_name": "Python 3.8.11 ('lit-logits-3Mlh6BE1')",
   "language": "python",
   "name": "python3"
  },
  "language_info": {
   "name": "python",
   "version": "3.8.11"
  },
  "orig_nbformat": 4
 },
 "nbformat": 4,
 "nbformat_minor": 2
}
